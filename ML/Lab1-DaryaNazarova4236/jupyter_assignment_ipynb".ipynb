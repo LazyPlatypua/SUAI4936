{
  "cells": [
    {
      "cell_type": "markdown",
      "metadata": {
        "id": "view-in-github",
        "colab_type": "text"
      },
      "source": [
        "<a href=\"https://colab.research.google.com/github/LazyPlatypua/SUAI4936/blob/master/ML/Lab1-DaryaNazarova4236/jupyter_assignment_ipynb%22.ipynb\" target=\"_parent\"><img src=\"https://colab.research.google.com/assets/colab-badge.svg\" alt=\"Open In Colab\"/></a>"
      ]
    },
    {
      "cell_type": "code",
      "source": [
        "#I have read through the Introduction and Overview notebook\n",
        "READ_INTRODUCTION = True\n",
        "\n",
        "#I understand (at a high level) what Jupyter notebooks are and how to read and\n",
        "#interact with them (or I have been in touch with the course instructor to ask for help)\n",
        "LEARNED_ABOUT_JUPYTER = True\n",
        "\n",
        "#I've created (or already have) a Google account and can access Google\n",
        "#Colaboratory under my own account\n",
        "ACCESS_COLABORATORY = True\n",
        "\n",
        "#I've created a GitHub account\n",
        "CREATED_GITHUB_ACCOUNT = True\n",
        "github_username = 'DaryaNazarova4236'\n",
        "\n",
        "#My info\n",
        "my_name = 'Darya'\n",
        "\n",
        "def greet(name):\n",
        "  if name == True:\n",
        "    print(\"1\")\n",
        "  elif  name == False:\n",
        "    print(\"0\")\n",
        "  elif type(name) is list:\n",
        "      print('Hello, ', end='')\n",
        "      for i in range(len(name)):\n",
        "        if i == len(name)-1:\n",
        "          print(name[i], end='')\n",
        "        else:\n",
        "          print(name[i], \",\", end='')\n",
        "      print('!')\n",
        "  else:\n",
        "    print('Hello, ', name, '!')\n",
        "  return None;\n",
        "\n",
        "greet([\"Test User\"]\t)"
      ],
      "metadata": {
        "colab": {
          "base_uri": "https://localhost:8080/"
        },
        "id": "L0Eb-D1E2GtV",
        "outputId": "0c94a11a-993b-4f09-97ed-ca7bfb6bbc4a"
      },
      "execution_count": null,
      "outputs": [
        {
          "output_type": "stream",
          "name": "stdout",
          "text": [
            "Hello, Test User ,fdsffs ,fdsfdsf!\n"
          ]
        }
      ]
    },
    {
      "cell_type": "code",
      "source": [
        "\n"
      ],
      "metadata": {
        "id": "RORB6Uh12oJt"
      },
      "execution_count": null,
      "outputs": []
    }
  ],
  "metadata": {
    "colab": {
      "provenance": [],
      "include_colab_link": true
    },
    "kernelspec": {
      "display_name": "Python [conda env:base] *",
      "language": "python",
      "name": "conda-base-py"
    },
    "language_info": {
      "codemirror_mode": {
        "name": "ipython",
        "version": 3
      },
      "file_extension": ".py",
      "mimetype": "text/x-python",
      "name": "python",
      "nbconvert_exporter": "python",
      "pygments_lexer": "ipython3",
      "version": "3.12.7"
    }
  },
  "nbformat": 4,
  "nbformat_minor": 0
}